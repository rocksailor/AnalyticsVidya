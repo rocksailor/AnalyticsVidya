{
 "cells": [
  {
   "cell_type": "code",
   "execution_count": 96,
   "metadata": {
    "collapsed": false
   },
   "outputs": [
    {
     "data": {
      "text/plain": [
       "'/Users/Wizard/GitHub/Myprojects'"
      ]
     },
     "execution_count": 96,
     "metadata": {},
     "output_type": "execute_result"
    }
   ],
   "source": [
    "import pandas as pd\n",
    "import numpy as np\n",
    "import matplotlib.pyplot as plt\n",
    "import json\n",
    "import seaborn as sns\n",
    "import os\n",
    "%matplotlib inline\n",
    "os.chdir('/Users/Wizard/GitHub/Myprojects/')\n",
    "os.getcwd()"
   ]
  },
  {
   "cell_type": "code",
   "execution_count": 28,
   "metadata": {
    "collapsed": false
   },
   "outputs": [],
   "source": [
    "#load files\n",
    "df1 = pd.read_csv('Big Mart/Data/train.csv')\n",
    "df2 = pd.read_csv('Big Mart/Data/test.csv')\n",
    "df = pd.DataFrame(df1, copy =True)\n",
    "tf = pd.DataFrame(df2, copy =True)\n",
    "test = [df,tf]"
   ]
  },
  {
   "cell_type": "code",
   "execution_count": 29,
   "metadata": {
    "collapsed": false,
    "scrolled": true
   },
   "outputs": [
    {
     "name": "stdout",
     "output_type": "stream",
     "text": [
      "(8523, 12)\n",
      "\n",
      "Item_Identifier               object\n",
      "Item_Weight                  float64\n",
      "Item_Fat_Content              object\n",
      "Item_Visibility              float64\n",
      "Item_Type                     object\n",
      "Item_MRP                     float64\n",
      "Outlet_Identifier             object\n",
      "Outlet_Establishment_Year      int64\n",
      "Outlet_Size                   object\n",
      "Outlet_Location_Type          object\n",
      "Outlet_Type                   object\n",
      "Item_Outlet_Sales            float64\n",
      "dtype: object\n",
      "\n",
      "  Item_Identifier  Item_Weight Item_Fat_Content  Item_Visibility  \\\n",
      "0           FDA15         9.30          Low Fat         0.016047   \n",
      "1           DRC01         5.92          Regular         0.019278   \n",
      "2           FDN15        17.50          Low Fat         0.016760   \n",
      "3           FDX07        19.20          Regular         0.000000   \n",
      "4           NCD19         8.93          Low Fat         0.000000   \n",
      "\n",
      "               Item_Type  Item_MRP Outlet_Identifier  \\\n",
      "0                  Dairy  249.8092            OUT049   \n",
      "1            Soft Drinks   48.2692            OUT018   \n",
      "2                   Meat  141.6180            OUT049   \n",
      "3  Fruits and Vegetables  182.0950            OUT010   \n",
      "4              Household   53.8614            OUT013   \n",
      "\n",
      "   Outlet_Establishment_Year Outlet_Size Outlet_Location_Type  \\\n",
      "0                       1999      Medium               Tier 1   \n",
      "1                       2009      Medium               Tier 3   \n",
      "2                       1999      Medium               Tier 1   \n",
      "3                       1998         NaN               Tier 3   \n",
      "4                       1987        High               Tier 3   \n",
      "\n",
      "         Outlet_Type  Item_Outlet_Sales  \n",
      "0  Supermarket Type1          3735.1380  \n",
      "1  Supermarket Type2           443.4228  \n",
      "2  Supermarket Type1          2097.2700  \n",
      "3      Grocery Store           732.3800  \n",
      "4  Supermarket Type1           994.7052  \n",
      "\n",
      "describe\n",
      "\n",
      "       Item_Weight  Item_Visibility     Item_MRP  Outlet_Establishment_Year  \\\n",
      "count  7060.000000      8523.000000  8523.000000                8523.000000   \n",
      "mean     12.857645         0.066132   140.992782                1997.831867   \n",
      "std       4.643456         0.051598    62.275067                   8.371760   \n",
      "min       4.555000         0.000000    31.290000                1985.000000   \n",
      "25%       8.773750         0.026989    93.826500                1987.000000   \n",
      "50%      12.600000         0.053931   143.012800                1999.000000   \n",
      "75%      16.850000         0.094585   185.643700                2004.000000   \n",
      "max      21.350000         0.328391   266.888400                2009.000000   \n",
      "\n",
      "       Item_Outlet_Sales  \n",
      "count        8523.000000  \n",
      "mean         2181.288914  \n",
      "std          1706.499616  \n",
      "min            33.290000  \n",
      "25%           834.247400  \n",
      "50%          1794.331000  \n",
      "75%          3101.296400  \n",
      "max         13086.964800  \n"
     ]
    }
   ],
   "source": [
    "#descriptive statistics\n",
    "print df.shape\n",
    "print '\\n%s\\n' %df.dtypes\n",
    "print df.head()\n",
    "print '\\ndescribe\\n'\n",
    "print df.describe()"
   ]
  },
  {
   "cell_type": "code",
   "execution_count": 30,
   "metadata": {
    "collapsed": false
   },
   "outputs": [
    {
     "name": "stdout",
     "output_type": "stream",
     "text": [
      "Index([u'Item_Identifier', u'Item_Weight', u'Item_Fat_Content',\n",
      "       u'Item_Visibility', u'Item_Type', u'Item_MRP', u'Outlet_Identifier',\n",
      "       u'Outlet_Establishment_Year', u'Outlet_Size', u'Outlet_Location_Type',\n",
      "       u'Outlet_Type', u'Item_Outlet_Sales'],\n",
      "      dtype='object')\n",
      "Item_Identifier              1559\n",
      "Item_Weight                   416\n",
      "Item_Fat_Content                5\n",
      "Item_Visibility              7880\n",
      "Item_Type                      16\n",
      "Item_MRP                     5938\n",
      "Outlet_Identifier              10\n",
      "Outlet_Establishment_Year       9\n",
      "Outlet_Size                     4\n",
      "Outlet_Location_Type            3\n",
      "Outlet_Type                     4\n",
      "Item_Outlet_Sales            3493\n",
      "dtype: int64\n",
      "\n",
      "Null values count\n",
      "\n",
      "Item_Identifier                 0\n",
      "Item_Weight                  1463\n",
      "Item_Fat_Content                0\n",
      "Item_Visibility                 0\n",
      "Item_Type                       0\n",
      "Item_MRP                        0\n",
      "Outlet_Identifier               0\n",
      "Outlet_Establishment_Year       0\n",
      "Outlet_Size                  2410\n",
      "Outlet_Location_Type            0\n",
      "Outlet_Type                     0\n",
      "Item_Outlet_Sales               0\n",
      "dtype: int64\n"
     ]
    }
   ],
   "source": [
    "#dfcolumns\n",
    "print df.columns\n",
    "#unique and nulls\n",
    "print df.apply(lambda x: len(x.unique()))\n",
    "print '\\nNull values count\\n'\n",
    "print df.isnull().sum()"
   ]
  },
  {
   "cell_type": "code",
   "execution_count": 31,
   "metadata": {
    "collapsed": false
   },
   "outputs": [],
   "source": [
    "for i in test:\n",
    "    i.loc[i['Item_Weight'].isnull(), 'Item_Weight'] = round(i['Item_Weight'].mean(),0)\n",
    "    i['Item_Weight'].isnull().sum()\n",
    "    i['Item_Weight'].mean()"
   ]
  },
  {
   "cell_type": "code",
   "execution_count": 32,
   "metadata": {
    "collapsed": false
   },
   "outputs": [
    {
     "name": "stdout",
     "output_type": "stream",
     "text": [
      "sum of individual unique values in a selected column\n",
      "\n",
      " Item_Fat_Content\n",
      "Low Fat    5089\n",
      "Regular    2889\n",
      "LF          316\n",
      "reg         117\n",
      "low fat     112\n",
      "Name: Item_Fat_Content, dtype: int64\n",
      "\n",
      " Item_Type\n",
      "Fruits and Vegetables    1232\n",
      "Snack Foods              1200\n",
      "Household                 910\n",
      "Frozen Foods              856\n",
      "Dairy                     682\n",
      "Canned                    649\n",
      "Baking Goods              648\n",
      "Health and Hygiene        520\n",
      "Soft Drinks               445\n",
      "Meat                      425\n",
      "Breads                    251\n",
      "Hard Drinks               214\n",
      "Others                    169\n",
      "Starchy Foods             148\n",
      "Breakfast                 110\n",
      "Seafood                    64\n",
      "Name: Item_Type, dtype: int64\n",
      "\n",
      " Outlet_Location_Type\n",
      "Tier 3    3350\n",
      "Tier 2    2785\n",
      "Tier 1    2388\n",
      "Name: Outlet_Location_Type, dtype: int64\n",
      "\n",
      " Outlet_Type\n",
      "Supermarket Type1    5577\n",
      "Grocery Store        1083\n",
      "Supermarket Type3     935\n",
      "Supermarket Type2     928\n",
      "Name: Outlet_Type, dtype: int64\n",
      "\n",
      " Outlet_Size\n",
      "Medium    2793\n",
      "Small     2388\n",
      "High       932\n",
      "Name: Outlet_Size, dtype: int64\n"
     ]
    }
   ],
   "source": [
    "print 'sum of individual unique values in a selected column'\n",
    "\n",
    "for i in df[['Item_Fat_Content','Item_Type','Outlet_Location_Type','Outlet_Type','Outlet_Size']]:\n",
    "    print '\\n %s'%i\n",
    "    print df[i].value_counts()"
   ]
  },
  {
   "cell_type": "code",
   "execution_count": 33,
   "metadata": {
    "collapsed": false
   },
   "outputs": [],
   "source": [
    "from scipy.stats import mode\n",
    "for i in test:\n",
    "    a = i.pivot_table(values='Outlet_Size', columns='Outlet_Type', aggfunc=(lambda x:mode(x).mode[0]))    \n",
    "    i.loc[i['Outlet_Size'].isnull(), 'Outlet_Size']= i.loc[i['Outlet_Size'].isnull(),'Outlet_Type'].apply(lambda x:a[x])"
   ]
  },
  {
   "cell_type": "code",
   "execution_count": 34,
   "metadata": {
    "collapsed": false
   },
   "outputs": [
    {
     "name": "stdout",
     "output_type": "stream",
     "text": [
      "       Item_Weight  Item_Visibility     Item_MRP  Outlet_Establishment_Year  \\\n",
      "count  8523.000000      8523.000000  8523.000000                8523.000000   \n",
      "mean     12.882081         0.066132   140.992782                1997.831867   \n",
      "std       4.226465         0.051598    62.275067                   8.371760   \n",
      "min       4.555000         0.000000    31.290000                1985.000000   \n",
      "25%       9.310000         0.026989    93.826500                1987.000000   \n",
      "50%      13.000000         0.053931   143.012800                1999.000000   \n",
      "75%      16.000000         0.094585   185.643700                2004.000000   \n",
      "max      21.350000         0.328391   266.888400                2009.000000   \n",
      "\n",
      "       Item_Outlet_Sales  \n",
      "count        8523.000000  \n",
      "mean         2181.288914  \n",
      "std          1706.499616  \n",
      "min            33.290000  \n",
      "25%           834.247400  \n",
      "50%          1794.331000  \n",
      "75%          3101.296400  \n",
      "max         13086.964800  \n",
      "\n",
      " ----- \n",
      "\n",
      "  Item_Identifier  Item_Weight Item_Fat_Content  Item_Visibility  \\\n",
      "0           FDA15         9.30          Low Fat         0.016047   \n",
      "1           DRC01         5.92          Regular         0.019278   \n",
      "2           FDN15        17.50          Low Fat         0.016760   \n",
      "3           FDX07        19.20          Regular         0.000000   \n",
      "4           NCD19         8.93          Low Fat         0.000000   \n",
      "\n",
      "               Item_Type  Item_MRP Outlet_Identifier  \\\n",
      "0                  Dairy  249.8092            OUT049   \n",
      "1            Soft Drinks   48.2692            OUT018   \n",
      "2                   Meat  141.6180            OUT049   \n",
      "3  Fruits and Vegetables  182.0950            OUT010   \n",
      "4              Household   53.8614            OUT013   \n",
      "\n",
      "   Outlet_Establishment_Year Outlet_Size Outlet_Location_Type  \\\n",
      "0                       1999      Medium               Tier 1   \n",
      "1                       2009      Medium               Tier 3   \n",
      "2                       1999      Medium               Tier 1   \n",
      "3                       1998       Small               Tier 3   \n",
      "4                       1987        High               Tier 3   \n",
      "\n",
      "         Outlet_Type  Item_Outlet_Sales  \n",
      "0  Supermarket Type1          3735.1380  \n",
      "1  Supermarket Type2           443.4228  \n",
      "2  Supermarket Type1          2097.2700  \n",
      "3      Grocery Store           732.3800  \n",
      "4  Supermarket Type1           994.7052  \n"
     ]
    }
   ],
   "source": [
    "#print df.isnull().sum()\n",
    "print df.describe()\n",
    "print '\\n ----- \\n'\n",
    "print df.head()"
   ]
  },
  {
   "cell_type": "code",
   "execution_count": 35,
   "metadata": {
    "collapsed": false
   },
   "outputs": [],
   "source": [
    "#Feature engineering\n",
    "#1 Modify Item_Visibility\n",
    "for i in test:\n",
    "    i.loc[i['Item_Visibility']==0, 'Item_Visibility'] = i['Item_Visibility'].mean()"
   ]
  },
  {
   "cell_type": "code",
   "execution_count": 36,
   "metadata": {
    "collapsed": false
   },
   "outputs": [],
   "source": [
    "# 2. Food types\n",
    "for i in test:\n",
    "    i['Item_Type_New'] = i['Item_Identifier'].apply(lambda x:x[0:2])\n",
    "    i['Item_Type_New'] = i['Item_Type_New'].map({'DR':'Drinks', 'FD':'Food', 'NC':'Non-consummables'})\n",
    "    #print np.unique(df['Item_Type_New'])"
   ]
  },
  {
   "cell_type": "code",
   "execution_count": 37,
   "metadata": {
    "collapsed": false
   },
   "outputs": [],
   "source": [
    "# 3. Fat items \n",
    "for i in test:\n",
    "    np.unique(i.Item_Fat_Content)\n",
    "    i.Item_Fat_Content = i.Item_Fat_Content.replace({'LF':'Low Fat','reg':'Regular','low fat':'Low Fat'})\n",
    "    i.loc[i['Item_Type_New']=='Non-consummables', 'Item_Fat_Content'] = 'Non-edible'"
   ]
  },
  {
   "cell_type": "code",
   "execution_count": 38,
   "metadata": {
    "collapsed": false
   },
   "outputs": [],
   "source": [
    "#store operating year\n",
    "for i in test:\n",
    "    i['Outlet_Operating_Year'] = 2013-i['Outlet_Establishment_Year']"
   ]
  },
  {
   "cell_type": "code",
   "execution_count": 39,
   "metadata": {
    "collapsed": false
   },
   "outputs": [],
   "source": [
    "#Step 5: Numerical and One-Hot Coding of Categorical variables\n",
    "#Import library:\n",
    "from sklearn.preprocessing import LabelEncoder\n",
    "le = LabelEncoder()\n",
    "for i in test:\n",
    "    i['Outlet'] = i['Outlet_Identifier']\n",
    "    col = [u'Item_Fat_Content', u'Outlet_Size', u'Outlet_Location_Type',u'Outlet_Type',u'Item_Type_New', u'Outlet']\n",
    "    for j in col:\n",
    "        i[j]=le.fit_transform(i[j])"
   ]
  },
  {
   "cell_type": "code",
   "execution_count": 40,
   "metadata": {
    "collapsed": false
   },
   "outputs": [],
   "source": [
    "#One Hot Coding:\n",
    "col = [u'Item_Fat_Content', u'Outlet_Size', u'Outlet_Location_Type',u'Outlet_Type', u'Item_Type_New',u'Outlet']\n",
    "df = pd.get_dummies(df, columns = col)\n",
    "tf = pd.get_dummies(tf, columns = col)"
   ]
  },
  {
   "cell_type": "code",
   "execution_count": 16,
   "metadata": {
    "collapsed": false
   },
   "outputs": [
    {
     "data": {
      "text/html": [
       "<div>\n",
       "<table border=\"1\" class=\"dataframe\">\n",
       "  <thead>\n",
       "    <tr style=\"text-align: right;\">\n",
       "      <th></th>\n",
       "      <th>Item_Identifier</th>\n",
       "      <th>Item_Weight</th>\n",
       "      <th>Item_Visibility</th>\n",
       "      <th>Item_Type</th>\n",
       "      <th>Item_MRP</th>\n",
       "      <th>Outlet_Identifier</th>\n",
       "      <th>Outlet_Establishment_Year</th>\n",
       "      <th>Item_Outlet_Sales</th>\n",
       "      <th>Outlet_Operating_Year</th>\n",
       "      <th>Item_Fat_Content_0</th>\n",
       "      <th>...</th>\n",
       "      <th>Outlet_0</th>\n",
       "      <th>Outlet_1</th>\n",
       "      <th>Outlet_2</th>\n",
       "      <th>Outlet_3</th>\n",
       "      <th>Outlet_4</th>\n",
       "      <th>Outlet_5</th>\n",
       "      <th>Outlet_6</th>\n",
       "      <th>Outlet_7</th>\n",
       "      <th>Outlet_8</th>\n",
       "      <th>Outlet_9</th>\n",
       "    </tr>\n",
       "  </thead>\n",
       "  <tbody>\n",
       "    <tr>\n",
       "      <th>0</th>\n",
       "      <td>FDA15</td>\n",
       "      <td>9.30</td>\n",
       "      <td>0.016047</td>\n",
       "      <td>Dairy</td>\n",
       "      <td>249.8092</td>\n",
       "      <td>OUT049</td>\n",
       "      <td>1999</td>\n",
       "      <td>3735.1380</td>\n",
       "      <td>14</td>\n",
       "      <td>1</td>\n",
       "      <td>...</td>\n",
       "      <td>0</td>\n",
       "      <td>0</td>\n",
       "      <td>0</td>\n",
       "      <td>0</td>\n",
       "      <td>0</td>\n",
       "      <td>0</td>\n",
       "      <td>0</td>\n",
       "      <td>0</td>\n",
       "      <td>0</td>\n",
       "      <td>1</td>\n",
       "    </tr>\n",
       "    <tr>\n",
       "      <th>1</th>\n",
       "      <td>DRC01</td>\n",
       "      <td>5.92</td>\n",
       "      <td>0.019278</td>\n",
       "      <td>Soft Drinks</td>\n",
       "      <td>48.2692</td>\n",
       "      <td>OUT018</td>\n",
       "      <td>2009</td>\n",
       "      <td>443.4228</td>\n",
       "      <td>4</td>\n",
       "      <td>0</td>\n",
       "      <td>...</td>\n",
       "      <td>0</td>\n",
       "      <td>0</td>\n",
       "      <td>0</td>\n",
       "      <td>1</td>\n",
       "      <td>0</td>\n",
       "      <td>0</td>\n",
       "      <td>0</td>\n",
       "      <td>0</td>\n",
       "      <td>0</td>\n",
       "      <td>0</td>\n",
       "    </tr>\n",
       "    <tr>\n",
       "      <th>2</th>\n",
       "      <td>FDN15</td>\n",
       "      <td>17.50</td>\n",
       "      <td>0.016760</td>\n",
       "      <td>Meat</td>\n",
       "      <td>141.6180</td>\n",
       "      <td>OUT049</td>\n",
       "      <td>1999</td>\n",
       "      <td>2097.2700</td>\n",
       "      <td>14</td>\n",
       "      <td>1</td>\n",
       "      <td>...</td>\n",
       "      <td>0</td>\n",
       "      <td>0</td>\n",
       "      <td>0</td>\n",
       "      <td>0</td>\n",
       "      <td>0</td>\n",
       "      <td>0</td>\n",
       "      <td>0</td>\n",
       "      <td>0</td>\n",
       "      <td>0</td>\n",
       "      <td>1</td>\n",
       "    </tr>\n",
       "    <tr>\n",
       "      <th>3</th>\n",
       "      <td>FDX07</td>\n",
       "      <td>19.20</td>\n",
       "      <td>0.066132</td>\n",
       "      <td>Fruits and Vegetables</td>\n",
       "      <td>182.0950</td>\n",
       "      <td>OUT010</td>\n",
       "      <td>1998</td>\n",
       "      <td>732.3800</td>\n",
       "      <td>15</td>\n",
       "      <td>0</td>\n",
       "      <td>...</td>\n",
       "      <td>1</td>\n",
       "      <td>0</td>\n",
       "      <td>0</td>\n",
       "      <td>0</td>\n",
       "      <td>0</td>\n",
       "      <td>0</td>\n",
       "      <td>0</td>\n",
       "      <td>0</td>\n",
       "      <td>0</td>\n",
       "      <td>0</td>\n",
       "    </tr>\n",
       "    <tr>\n",
       "      <th>4</th>\n",
       "      <td>NCD19</td>\n",
       "      <td>8.93</td>\n",
       "      <td>0.066132</td>\n",
       "      <td>Household</td>\n",
       "      <td>53.8614</td>\n",
       "      <td>OUT013</td>\n",
       "      <td>1987</td>\n",
       "      <td>994.7052</td>\n",
       "      <td>26</td>\n",
       "      <td>0</td>\n",
       "      <td>...</td>\n",
       "      <td>0</td>\n",
       "      <td>1</td>\n",
       "      <td>0</td>\n",
       "      <td>0</td>\n",
       "      <td>0</td>\n",
       "      <td>0</td>\n",
       "      <td>0</td>\n",
       "      <td>0</td>\n",
       "      <td>0</td>\n",
       "      <td>0</td>\n",
       "    </tr>\n",
       "  </tbody>\n",
       "</table>\n",
       "<p>5 rows × 35 columns</p>\n",
       "</div>"
      ],
      "text/plain": [
       "  Item_Identifier  Item_Weight  Item_Visibility              Item_Type  \\\n",
       "0           FDA15         9.30         0.016047                  Dairy   \n",
       "1           DRC01         5.92         0.019278            Soft Drinks   \n",
       "2           FDN15        17.50         0.016760                   Meat   \n",
       "3           FDX07        19.20         0.066132  Fruits and Vegetables   \n",
       "4           NCD19         8.93         0.066132              Household   \n",
       "\n",
       "   Item_MRP Outlet_Identifier  Outlet_Establishment_Year  Item_Outlet_Sales  \\\n",
       "0  249.8092            OUT049                       1999          3735.1380   \n",
       "1   48.2692            OUT018                       2009           443.4228   \n",
       "2  141.6180            OUT049                       1999          2097.2700   \n",
       "3  182.0950            OUT010                       1998           732.3800   \n",
       "4   53.8614            OUT013                       1987           994.7052   \n",
       "\n",
       "   Outlet_Operating_Year  Item_Fat_Content_0    ...     Outlet_0  Outlet_1  \\\n",
       "0                     14                   1    ...            0         0   \n",
       "1                      4                   0    ...            0         0   \n",
       "2                     14                   1    ...            0         0   \n",
       "3                     15                   0    ...            1         0   \n",
       "4                     26                   0    ...            0         1   \n",
       "\n",
       "   Outlet_2  Outlet_3  Outlet_4  Outlet_5  Outlet_6  Outlet_7  Outlet_8  \\\n",
       "0         0         0         0         0         0         0         0   \n",
       "1         0         1         0         0         0         0         0   \n",
       "2         0         0         0         0         0         0         0   \n",
       "3         0         0         0         0         0         0         0   \n",
       "4         0         0         0         0         0         0         0   \n",
       "\n",
       "   Outlet_9  \n",
       "0         1  \n",
       "1         0  \n",
       "2         1  \n",
       "3         0  \n",
       "4         0  \n",
       "\n",
       "[5 rows x 35 columns]"
      ]
     },
     "execution_count": 16,
     "metadata": {},
     "output_type": "execute_result"
    }
   ],
   "source": [
    "df.head()"
   ]
  },
  {
   "cell_type": "code",
   "execution_count": null,
   "metadata": {
    "collapsed": false
   },
   "outputs": [],
   "source": [
    "df.drop(['Outlet_Establishment_Year','Item_Type'],axis=1, inplace =True)\n",
    "tf.drop(['Outlet_Establishment_Year','Item_Type'],axis=1, inplace =True)"
   ]
  },
  {
   "cell_type": "code",
   "execution_count": 45,
   "metadata": {
    "collapsed": false
   },
   "outputs": [
    {
     "name": "stdout",
     "output_type": "stream",
     "text": [
      "(8523, 33)\n",
      "Item_Identifier            object\n",
      "Item_Weight               float64\n",
      "Item_Visibility           float64\n",
      "Item_MRP                  float64\n",
      "Outlet_Identifier          object\n",
      "Item_Outlet_Sales         float64\n",
      "Outlet_Operating_Year       int64\n",
      "Item_Fat_Content_0          uint8\n",
      "Item_Fat_Content_1          uint8\n",
      "Item_Fat_Content_2          uint8\n",
      "Outlet_Size_0               uint8\n",
      "Outlet_Size_1               uint8\n",
      "Outlet_Size_2               uint8\n",
      "Outlet_Location_Type_0      uint8\n",
      "Outlet_Location_Type_1      uint8\n",
      "Outlet_Location_Type_2      uint8\n",
      "Outlet_Type_0               uint8\n",
      "Outlet_Type_1               uint8\n",
      "Outlet_Type_2               uint8\n",
      "Outlet_Type_3               uint8\n",
      "Item_Type_New_0             uint8\n",
      "Item_Type_New_1             uint8\n",
      "Item_Type_New_2             uint8\n",
      "Outlet_0                    uint8\n",
      "Outlet_1                    uint8\n",
      "Outlet_2                    uint8\n",
      "Outlet_3                    uint8\n",
      "Outlet_4                    uint8\n",
      "Outlet_5                    uint8\n",
      "Outlet_6                    uint8\n",
      "Outlet_7                    uint8\n",
      "Outlet_8                    uint8\n",
      "Outlet_9                    uint8\n",
      "dtype: object\n"
     ]
    }
   ],
   "source": [
    "print df.shape\n",
    "print df.dtypes"
   ]
  },
  {
   "cell_type": "code",
   "execution_count": 46,
   "metadata": {
    "collapsed": false
   },
   "outputs": [
    {
     "name": "stdout",
     "output_type": "stream",
     "text": [
      "(5681, 32)\n",
      "Item_Identifier            object\n",
      "Item_Weight               float64\n",
      "Item_Visibility           float64\n",
      "Item_MRP                  float64\n",
      "Outlet_Identifier          object\n",
      "Item_Outlet_Sales         float64\n",
      "Outlet_Operating_Year       int64\n",
      "Item_Fat_Content_0          uint8\n",
      "Item_Fat_Content_1          uint8\n",
      "Item_Fat_Content_2          uint8\n",
      "Outlet_Size_0               uint8\n",
      "Outlet_Size_1               uint8\n",
      "Outlet_Size_2               uint8\n",
      "Outlet_Location_Type_0      uint8\n",
      "Outlet_Location_Type_1      uint8\n",
      "Outlet_Location_Type_2      uint8\n",
      "Outlet_Type_0               uint8\n",
      "Outlet_Type_1               uint8\n",
      "Outlet_Type_2               uint8\n",
      "Outlet_Type_3               uint8\n",
      "Item_Type_New_0             uint8\n",
      "Item_Type_New_1             uint8\n",
      "Item_Type_New_2             uint8\n",
      "Outlet_0                    uint8\n",
      "Outlet_1                    uint8\n",
      "Outlet_2                    uint8\n",
      "Outlet_3                    uint8\n",
      "Outlet_4                    uint8\n",
      "Outlet_5                    uint8\n",
      "Outlet_6                    uint8\n",
      "Outlet_7                    uint8\n",
      "Outlet_8                    uint8\n",
      "Outlet_9                    uint8\n",
      "dtype: object\n"
     ]
    }
   ],
   "source": [
    "print tf.shape\n",
    "print df.dtypes"
   ]
  },
  {
   "cell_type": "code",
   "execution_count": 48,
   "metadata": {
    "collapsed": false
   },
   "outputs": [],
   "source": [
    "#Export files as modified versions:\n",
    "df.to_csv(\"train_modified.csv\",index=False)\n",
    "tf.to_csv(\"test_modified.csv\",index=False)"
   ]
  },
  {
   "cell_type": "code",
   "execution_count": 54,
   "metadata": {
    "collapsed": false
   },
   "outputs": [
    {
     "name": "stderr",
     "output_type": "stream",
     "text": [
      "/Users/Wizard/Library/Enthought/Canopy_64bit/User/lib/python2.7/site-packages/ipykernel/__main__.py:7: SettingWithCopyWarning: \n",
      "A value is trying to be set on a copy of a slice from a DataFrame.\n",
      "Try using .loc[row_indexer,col_indexer] = value instead\n",
      "\n",
      "See the caveats in the documentation: http://pandas.pydata.org/pandas-docs/stable/indexing.html#indexing-view-versus-copy\n"
     ]
    },
    {
     "data": {
      "text/html": [
       "<div>\n",
       "<table border=\"1\" class=\"dataframe\">\n",
       "  <thead>\n",
       "    <tr style=\"text-align: right;\">\n",
       "      <th></th>\n",
       "      <th>Item_Identifier</th>\n",
       "      <th>Outlet_Identifier</th>\n",
       "      <th>forecast_sales</th>\n",
       "    </tr>\n",
       "  </thead>\n",
       "  <tbody>\n",
       "    <tr>\n",
       "      <th>0</th>\n",
       "      <td>FDW58</td>\n",
       "      <td>OUT049</td>\n",
       "      <td>2181.288914</td>\n",
       "    </tr>\n",
       "    <tr>\n",
       "      <th>1</th>\n",
       "      <td>FDW14</td>\n",
       "      <td>OUT017</td>\n",
       "      <td>2181.288914</td>\n",
       "    </tr>\n",
       "    <tr>\n",
       "      <th>2</th>\n",
       "      <td>NCN55</td>\n",
       "      <td>OUT010</td>\n",
       "      <td>2181.288914</td>\n",
       "    </tr>\n",
       "    <tr>\n",
       "      <th>3</th>\n",
       "      <td>FDQ58</td>\n",
       "      <td>OUT017</td>\n",
       "      <td>2181.288914</td>\n",
       "    </tr>\n",
       "    <tr>\n",
       "      <th>4</th>\n",
       "      <td>FDY38</td>\n",
       "      <td>OUT027</td>\n",
       "      <td>2181.288914</td>\n",
       "    </tr>\n",
       "  </tbody>\n",
       "</table>\n",
       "</div>"
      ],
      "text/plain": [
       "  Item_Identifier Outlet_Identifier  forecast_sales\n",
       "0           FDW58            OUT049     2181.288914\n",
       "1           FDW14            OUT017     2181.288914\n",
       "2           NCN55            OUT010     2181.288914\n",
       "3           FDQ58            OUT017     2181.288914\n",
       "4           FDY38            OUT027     2181.288914"
      ]
     },
     "execution_count": 54,
     "metadata": {},
     "output_type": "execute_result"
    }
   ],
   "source": [
    "#Model building\n",
    "#mean model - base model\n",
    "forecast_sales = df['Item_Outlet_Sales'].mean()\n",
    "forecast_sales\n",
    "#create a df for submission\n",
    "base1 = tf[['Item_Identifier','Outlet_Identifier']]\n",
    "base1['forecast_sales'] = forecast_sales\n",
    "base1.head()"
   ]
  },
  {
   "cell_type": "code",
   "execution_count": 57,
   "metadata": {
    "collapsed": false
   },
   "outputs": [
    {
     "data": {
      "text/plain": [
       "Item_Identifier            object\n",
       "Item_Weight               float64\n",
       "Item_Visibility           float64\n",
       "Item_MRP                  float64\n",
       "Outlet_Identifier          object\n",
       "Item_Outlet_Sales         float64\n",
       "Outlet_Operating_Year       int64\n",
       "Item_Fat_Content_0          uint8\n",
       "Item_Fat_Content_1          uint8\n",
       "Item_Fat_Content_2          uint8\n",
       "Outlet_Size_0               uint8\n",
       "Outlet_Size_1               uint8\n",
       "Outlet_Size_2               uint8\n",
       "Outlet_Location_Type_0      uint8\n",
       "Outlet_Location_Type_1      uint8\n",
       "Outlet_Location_Type_2      uint8\n",
       "Outlet_Type_0               uint8\n",
       "Outlet_Type_1               uint8\n",
       "Outlet_Type_2               uint8\n",
       "Outlet_Type_3               uint8\n",
       "Item_Type_New_0             uint8\n",
       "Item_Type_New_1             uint8\n",
       "Item_Type_New_2             uint8\n",
       "Outlet_0                    uint8\n",
       "Outlet_1                    uint8\n",
       "Outlet_2                    uint8\n",
       "Outlet_3                    uint8\n",
       "Outlet_4                    uint8\n",
       "Outlet_5                    uint8\n",
       "Outlet_6                    uint8\n",
       "Outlet_7                    uint8\n",
       "Outlet_8                    uint8\n",
       "Outlet_9                    uint8\n",
       "dtype: object"
      ]
     },
     "execution_count": 57,
     "metadata": {},
     "output_type": "execute_result"
    }
   ],
   "source": [
    "df.dtypes"
   ]
  },
  {
   "cell_type": "code",
   "execution_count": 79,
   "metadata": {
    "collapsed": false
   },
   "outputs": [],
   "source": [
    "#create target, id, \n",
    "target = 'Item_Outlet_Sales'\n",
    "Id = ['Item_Identifier','Outlet_Identifier']\n",
    "from sklearn import cross_validation, metrics\n",
    "def modelfit(alg, train, test, predictor, target, Id):\n",
    "    alg.fit(train[predictor], train[target])\n",
    "    #training predictions\n",
    "    train_predictions = alg.predict(train[predictor])\n",
    "    #test predictions\n",
    "    test_predictions = alg.predict(test[predictor])\n",
    "    #validationscore \n",
    "    cv_score = cross_validation.cross_val_score(alg, train[predictor], train[target], \n",
    "                                                       cv=10,scoring='mean_squared_error')\n",
    "    cv_score = np.sqrt(np.abs(cv_score))\n",
    "    \n",
    "    print \"\\nModel Report\"\n",
    "    print \"RMSE %4f\" %np.sqrt(metrics.mean_squared_error(train[target].values, train_predictions))\n",
    "    print \"cv score mean - %4f|std - %4f| min - %4f| max - %4f\" %(np.mean(cv_score),np.std(cv_score),\n",
    "                                                                np.min(cv_score),np.max(cv_score))"
   ]
  },
  {
   "cell_type": "code",
   "execution_count": 80,
   "metadata": {
    "collapsed": false
   },
   "outputs": [],
   "source": [
    "from sklearn.linear_model import LinearRegression\n",
    "predictor = [x for x in df.columns if x not in [target]+Id]"
   ]
  },
  {
   "cell_type": "code",
   "execution_count": 82,
   "metadata": {
    "collapsed": false
   },
   "outputs": [
    {
     "name": "stdout",
     "output_type": "stream",
     "text": [
      "\n",
      "Model Report\n",
      "RMSE 1127.419334\n",
      "cv score mean - 1129.779911|std - 16.720784| min - 1108.222670| max - 1163.684334\n"
     ]
    },
    {
     "name": "stderr",
     "output_type": "stream",
     "text": [
      "/Users/Wizard/Library/Enthought/Canopy_64bit/User/lib/python2.7/site-packages/sklearn/metrics/scorer.py:90: DeprecationWarning: Scoring method mean_squared_error was renamed to neg_mean_squared_error in version 0.18 and will be removed in 0.20.\n",
      "  sample_weight=sample_weight)\n",
      "/Users/Wizard/Library/Enthought/Canopy_64bit/User/lib/python2.7/site-packages/sklearn/metrics/scorer.py:90: DeprecationWarning: Scoring method mean_squared_error was renamed to neg_mean_squared_error in version 0.18 and will be removed in 0.20.\n",
      "  sample_weight=sample_weight)\n",
      "/Users/Wizard/Library/Enthought/Canopy_64bit/User/lib/python2.7/site-packages/sklearn/metrics/scorer.py:90: DeprecationWarning: Scoring method mean_squared_error was renamed to neg_mean_squared_error in version 0.18 and will be removed in 0.20.\n",
      "  sample_weight=sample_weight)\n",
      "/Users/Wizard/Library/Enthought/Canopy_64bit/User/lib/python2.7/site-packages/sklearn/metrics/scorer.py:90: DeprecationWarning: Scoring method mean_squared_error was renamed to neg_mean_squared_error in version 0.18 and will be removed in 0.20.\n",
      "  sample_weight=sample_weight)\n",
      "/Users/Wizard/Library/Enthought/Canopy_64bit/User/lib/python2.7/site-packages/sklearn/metrics/scorer.py:90: DeprecationWarning: Scoring method mean_squared_error was renamed to neg_mean_squared_error in version 0.18 and will be removed in 0.20.\n",
      "  sample_weight=sample_weight)\n",
      "/Users/Wizard/Library/Enthought/Canopy_64bit/User/lib/python2.7/site-packages/sklearn/metrics/scorer.py:90: DeprecationWarning: Scoring method mean_squared_error was renamed to neg_mean_squared_error in version 0.18 and will be removed in 0.20.\n",
      "  sample_weight=sample_weight)\n",
      "/Users/Wizard/Library/Enthought/Canopy_64bit/User/lib/python2.7/site-packages/sklearn/metrics/scorer.py:90: DeprecationWarning: Scoring method mean_squared_error was renamed to neg_mean_squared_error in version 0.18 and will be removed in 0.20.\n",
      "  sample_weight=sample_weight)\n",
      "/Users/Wizard/Library/Enthought/Canopy_64bit/User/lib/python2.7/site-packages/sklearn/metrics/scorer.py:90: DeprecationWarning: Scoring method mean_squared_error was renamed to neg_mean_squared_error in version 0.18 and will be removed in 0.20.\n",
      "  sample_weight=sample_weight)\n",
      "/Users/Wizard/Library/Enthought/Canopy_64bit/User/lib/python2.7/site-packages/sklearn/metrics/scorer.py:90: DeprecationWarning: Scoring method mean_squared_error was renamed to neg_mean_squared_error in version 0.18 and will be removed in 0.20.\n",
      "  sample_weight=sample_weight)\n",
      "/Users/Wizard/Library/Enthought/Canopy_64bit/User/lib/python2.7/site-packages/sklearn/metrics/scorer.py:90: DeprecationWarning: Scoring method mean_squared_error was renamed to neg_mean_squared_error in version 0.18 and will be removed in 0.20.\n",
      "  sample_weight=sample_weight)\n"
     ]
    }
   ],
   "source": [
    "LR = LinearRegression(normalize = True) \n",
    "modelfit(LR, df, tf, predictor, target, Id)"
   ]
  },
  {
   "cell_type": "code",
   "execution_count": 99,
   "metadata": {
    "collapsed": false
   },
   "outputs": [
    {
     "name": "stderr",
     "output_type": "stream",
     "text": [
      "/Users/Wizard/Library/Enthought/Canopy_64bit/User/lib/python2.7/site-packages/sklearn/utils/deprecation.py:70: DeprecationWarning: Function residues_ is deprecated; ``residues_`` is deprecated and will be removed in 0.19\n",
      "  warnings.warn(msg, category=DeprecationWarning)\n"
     ]
    },
    {
     "name": "stdout",
     "output_type": "stream",
     "text": [
      "[]\n"
     ]
    },
    {
     "data": {
      "image/png": "[encoded data removed]",
      "text/plain": [
       "<matplotlib.figure.Figure at 0x125711cd0>"
      ]
     },
     "metadata": {},
     "output_type": "display_data"
    }
   ],
   "source": [
    "pd.Series(LR.coef_, predictor).sort_values().plot(kind = 'bar', title='Model Coefficients')\n"
   ]
  },
  {
   "cell_type": "code",
   "execution_count": 102,
   "metadata": {
    "collapsed": false
   },
   "outputs": [
    {
     "name": "stdout",
     "output_type": "stream",
     "text": [
      "5.92450696644e+15\n"
     ]
    }
   ],
   "source": [
    "print LR.intercept_"
   ]
  },
  {
   "cell_type": "code",
   "execution_count": 105,
   "metadata": {
    "collapsed": false
   },
   "outputs": [
    {
     "name": "stdout",
     "output_type": "stream",
     "text": [
      "[ 4049.   572.  2363. ...,  1511.  1413.  1221.]\n",
      "0       3735.1380\n",
      "1        443.4228\n",
      "2       2097.2700\n",
      "3        732.3800\n",
      "4        994.7052\n",
      "5        556.6088\n",
      "6        343.5528\n",
      "7       4022.7636\n",
      "8       1076.5986\n",
      "9       4710.5350\n",
      "10      1516.0266\n",
      "11      2187.1530\n",
      "12      1589.2646\n",
      "13      2145.2076\n",
      "14      1977.4260\n",
      "15      1547.3192\n",
      "16      1621.8888\n",
      "17       718.3982\n",
      "18      2303.6680\n",
      "19      2748.4224\n",
      "20      3775.0860\n",
      "21      4064.0432\n",
      "22      1587.2672\n",
      "23       214.3876\n",
      "24      4078.0250\n",
      "25       838.9080\n",
      "26      1065.2800\n",
      "27       308.9312\n",
      "28       178.4344\n",
      "29       125.8362\n",
      "          ...    \n",
      "8493    4727.1800\n",
      "8494    1637.8680\n",
      "8495    4314.3840\n",
      "8496    3715.1640\n",
      "8497    2247.0750\n",
      "8498    1601.2490\n",
      "8499    2976.1260\n",
      "8500    1907.5170\n",
      "8501    1508.0370\n",
      "8502    3020.0688\n",
      "8503    3392.9168\n",
      "8504    4138.6128\n",
      "8505    2117.2440\n",
      "8506    3944.8650\n",
      "8507     515.9950\n",
      "8508    2587.9646\n",
      "8509     424.7804\n",
      "8510    7182.6504\n",
      "8511    4207.8560\n",
      "8512    2479.4392\n",
      "8513     595.2252\n",
      "8514     468.7232\n",
      "8515    1571.2880\n",
      "8516     858.8820\n",
      "8517    3608.6360\n",
      "8518    2778.3834\n",
      "8519     549.2850\n",
      "8520    1193.1136\n",
      "8521    1845.5976\n",
      "8522     765.6700\n",
      "Name: Item_Outlet_Sales, dtype: float64\n"
     ]
    }
   ],
   "source": [
    "print LR.predict(df[predictor])\n",
    "print df['Item_Outlet_Sales']"
   ]
  }
 ],
 "metadata": {
  "kernelspec": {
   "display_name": "Python 2",
   "language": "python",
   "name": "python2"
  },
  "language_info": {
   "codemirror_mode": {
    "name": "ipython",
    "version": 2
   },
   "file_extension": ".py",
   "mimetype": "text/x-python",
   "name": "python",
   "nbconvert_exporter": "python",
   "pygments_lexer": "ipython2",
   "version": "2.7.11"
  }
 },
 "nbformat": 4,
 "nbformat_minor": 0
}
